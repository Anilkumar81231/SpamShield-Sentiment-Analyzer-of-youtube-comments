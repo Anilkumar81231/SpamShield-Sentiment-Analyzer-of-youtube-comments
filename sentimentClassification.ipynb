{
 "cells": [
  {
   "cell_type": "code",
   "execution_count": 26,
   "id": "81466e54",
   "metadata": {},
   "outputs": [],
   "source": [
    "import pandas as pd\n",
    "from sklearn.feature_extraction.text import TfidfVectorizer\n",
    "from sklearn.model_selection import train_test_split\n",
    "from sklearn.svm import SVC\n",
    "from sklearn.pipeline import Pipeline\n",
    "from sklearn.metrics import accuracy_score\n",
    "import joblib\n",
    "import re\n",
    "\n",
    "# Load the dataset\n",
    "df = pd.read_csv('dataset/file.csv', encoding='latin1')\n",
    "\n",
    "df = df.dropna()\n",
    "\n",
    "# Map the label column values\n",
    "label_mapping = {\n",
    "    'negative': 0,\n",
    "    'neutral': 1,\n",
    "    'positive': 2\n",
    "}\n",
    "\n",
    "# Apply the mapping\n",
    "df['label'] = df['label'].map(label_mapping)"
   ]
  },
  {
   "cell_type": "code",
   "execution_count": 27,
   "id": "9c8f79a1",
   "metadata": {},
   "outputs": [],
   "source": [
    "# Define cleaning functions\n",
    "def remove_urls(text):\n",
    "    return re.sub(r'http\\S+|www\\S+|https\\S+', '', text, flags=re.MULTILINE)\n",
    "\n",
    "def remove_non_ascii(text):\n",
    "    # Remove non-ASCII characters\n",
    "    return ''.join(char for char in text if ord(char) < 128)\n",
    "\n",
    "def remove_digits(text):\n",
    "    # Remove numeric digits\n",
    "    return re.sub(r'\\d+', '', text)\n",
    "\n",
    "def remove_special_characters(text):\n",
    "    # Remove special characters except whitespace\n",
    "    return re.sub(r'[^\\w\\s]', '', text)\n",
    "\n",
    "def normalize_case(text):\n",
    "    # Normalize text to lowercase\n",
    "    return text.lower()\n",
    "\n",
    "def clean_text(text):\n",
    "    # Remove URLs\n",
    "    text = remove_urls(text)\n",
    "    # Remove non-ASCII characters\n",
    "    text = remove_non_ascii(text)\n",
    "    # Remove numeric digits\n",
    "    text = remove_digits(text)\n",
    "    # Remove special characters except whitespace\n",
    "    text = remove_special_characters(text)\n",
    "    # Normalize case\n",
    "    text = normalize_case(text)\n",
    "    # Remove extra whitespace\n",
    "    text = ' '.join(text.split())\n",
    "    return text\n",
    "\n",
    "# Apply cleaning functions to the 'comment' column\n",
    "df['comment'] = df['comment'].apply(clean_text)"
   ]
  },
  {
   "cell_type": "code",
   "execution_count": 28,
   "id": "d481c596",
   "metadata": {},
   "outputs": [],
   "source": [
    "# Split dataset\n",
    "X = df['comment']\n",
    "y = df['label']\n",
    "X_train, X_test, y_train, y_test = train_test_split(X, y, test_size=0.3, random_state=42)"
   ]
  },
  {
   "cell_type": "code",
   "execution_count": 29,
   "id": "58f1028d",
   "metadata": {},
   "outputs": [
    {
     "name": "stdout",
     "output_type": "stream",
     "text": [
      "Model Accuracy: 0.874552543377642\n"
     ]
    }
   ],
   "source": [
    "\n",
    "\n",
    "# Create a pipeline with TfidfVectorizer and SVM classifier\n",
    "pipeline = Pipeline([\n",
    "    ('tfidf', TfidfVectorizer(stop_words='english')),\n",
    "    ('svc', SVC(kernel='linear'))  \n",
    "])\n",
    "\n",
    "# Train the model\n",
    "pipeline.fit(X_train, y_train)\n",
    "\n",
    "# Predict on the test set\n",
    "y_pred = pipeline.predict(X_test)\n",
    "\n",
    "# Evaluate the model\n",
    "accuracy = accuracy_score(y_test, y_pred)\n",
    "print(f'Model Accuracy: {accuracy}')"
   ]
  },
  {
   "cell_type": "code",
   "execution_count": 30,
   "id": "c59c1ac3",
   "metadata": {},
   "outputs": [
    {
     "data": {
      "text/plain": [
       "['sentiment_detection_model.pkl']"
      ]
     },
     "execution_count": 30,
     "metadata": {},
     "output_type": "execute_result"
    }
   ],
   "source": [
    "# Save the model to a file\n",
    "joblib.dump(pipeline, 'sentiment_detection_model.pkl')"
   ]
  },
  {
   "cell_type": "code",
   "execution_count": 31,
   "id": "720b5bbc",
   "metadata": {},
   "outputs": [
    {
     "name": "stdout",
     "output_type": "stream",
     "text": [
      "                                              comment  sentiment_prediction\n",
      "0   the product is fantastic and exceeded my expec...                     2\n",
      "1     i am not satisfied with the quality of the item                     2\n",
      "2             great service but the delivery was late                     2\n",
      "3             the experience was okay nothing special                     2\n",
      "4      absolutely love this will definitely recommend                     2\n",
      "5     the item arrived damaged and had to be returned                     0\n",
      "6    customer support was very helpful and responsive                     2\n",
      "7   i am disappointed with the product it did not ...                     0\n",
      "8   highly recommend this to anyone looking for a ...                     2\n",
      "9         the product is decent but could be improved                     2\n",
      "10                excellent quality and fast shipping                     2\n",
      "11              not worth the price i expected better                     2\n",
      "12                      perfect exactly what i needed                     2\n",
      "13       the service was slow but the product is good                     0\n",
      "14  i will not buy this again it was a waste of money                     0\n",
      "15   very happy with the purchase it was as described                     2\n",
      "16     the product exceeded my expectations great buy                     2\n",
      "17          i had a great shopping experience overall                     2\n"
     ]
    }
   ],
   "source": [
    "# Load the model from the file\n",
    "model = joblib.load('sentiment_detection_model.pkl')\n",
    "\n",
    "# Create a DataFrame with new comments\n",
    "data = {\n",
    "    'comment': [\n",
    "        'The product is fantastic and exceeded my expectations!',\n",
    "        'I am not satisfied with the quality of the item.',\n",
    "        'Great service, but the delivery was late.',\n",
    "        'The experience was okay, nothing special.',\n",
    "        'Absolutely love this! Will definitely recommend.',\n",
    "        'The item arrived damaged and had to be returned.',\n",
    "        'Customer support was very helpful and responsive.',\n",
    "        'I am disappointed with the product. It did not match the description.',\n",
    "        'Highly recommend this to anyone looking for a quality product.',\n",
    "        'The product is decent but could be improved.',\n",
    "        'Excellent quality and fast shipping.',\n",
    "        'Not worth the price. I expected better.',\n",
    "        'Perfect! Exactly what I needed.',\n",
    "        'The service was slow, but the product is good.',\n",
    "        'I will not buy this again. It was a waste of money.',\n",
    "        'Very happy with the purchase. It was as described.',\n",
    "        'The product exceeded my expectations. Great buy!',\n",
    "        'I had a great shopping experience overall.'\n",
    "    ]\n",
    "}\n",
    "\n",
    "new_data = pd.DataFrame(data)\n",
    "\n",
    "# Basic data cleaning on new data\n",
    "new_data['comment'] = new_data['comment'].str.lower()  # Convert to lowercase\n",
    "new_data['comment'] = new_data['comment'].str.replace(r'\\d+', '', regex=True)  # Remove numbers\n",
    "new_data['comment'] = new_data['comment'].str.replace(r'[^\\w\\s]', '', regex=True)  # Remove punctuation\n",
    "new_data['comment'] = new_data['comment'].str.strip()  # Remove whitespace\n",
    "\n",
    "# Predict using the loaded model\n",
    "new_predictions = model.predict(new_data['comment'])\n",
    "\n",
    "# Add predictions to the new data\n",
    "new_data['sentiment_prediction'] = new_predictions\n",
    "\n",
    "print(new_data.head(20))\n"
   ]
  },
  {
   "cell_type": "code",
   "execution_count": null,
   "id": "085d9f38",
   "metadata": {},
   "outputs": [],
   "source": []
  }
 ],
 "metadata": {
  "kernelspec": {
   "display_name": "Python 3 (ipykernel)",
   "language": "python",
   "name": "python3"
  },
  "language_info": {
   "codemirror_mode": {
    "name": "ipython",
    "version": 3
   },
   "file_extension": ".py",
   "mimetype": "text/x-python",
   "name": "python",
   "nbconvert_exporter": "python",
   "pygments_lexer": "ipython3",
   "version": "3.12.5"
  }
 },
 "nbformat": 4,
 "nbformat_minor": 5
}
